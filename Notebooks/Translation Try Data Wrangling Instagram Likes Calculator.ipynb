{
 "cells": [
  {
   "cell_type": "code",
   "execution_count": 1,
   "id": "fd54bdd2",
   "metadata": {},
   "outputs": [],
   "source": [
    "import pandas as pd\n",
    "import string\n",
    "from nltk.corpus import stopwords\n",
    "from nltk.tokenize import word_tokenize\n",
    "import emoji"
   ]
  },
  {
   "cell_type": "code",
   "execution_count": 2,
   "id": "2cfda955",
   "metadata": {},
   "outputs": [],
   "source": [
    "import nltk"
   ]
  },
  {
   "cell_type": "code",
   "execution_count": 3,
   "id": "7b36e342",
   "metadata": {},
   "outputs": [],
   "source": [
    "from googletrans import Translator"
   ]
  },
  {
   "cell_type": "code",
   "execution_count": 4,
   "id": "7b7d50ce",
   "metadata": {
    "scrolled": true
   },
   "outputs": [
    {
     "data": {
      "text/html": [
       "<div>\n",
       "<style scoped>\n",
       "    .dataframe tbody tr th:only-of-type {\n",
       "        vertical-align: middle;\n",
       "    }\n",
       "\n",
       "    .dataframe tbody tr th {\n",
       "        vertical-align: top;\n",
       "    }\n",
       "\n",
       "    .dataframe thead th {\n",
       "        text-align: right;\n",
       "    }\n",
       "</style>\n",
       "<table border=\"1\" class=\"dataframe\">\n",
       "  <thead>\n",
       "    <tr style=\"text-align: right;\">\n",
       "      <th></th>\n",
       "      <th>Username</th>\n",
       "      <th>Follower count:</th>\n",
       "      <th>Post ID</th>\n",
       "      <th>Media Type:</th>\n",
       "      <th>Caption</th>\n",
       "      <th>Likes</th>\n",
       "      <th>Comments</th>\n",
       "      <th>Timestamp</th>\n",
       "      <th>Tags</th>\n",
       "    </tr>\n",
       "  </thead>\n",
       "  <tbody>\n",
       "    <tr>\n",
       "      <th>0</th>\n",
       "      <td>newbalance</td>\n",
       "      <td>7074908</td>\n",
       "      <td>3.112660e+18</td>\n",
       "      <td>2</td>\n",
       "      <td>Together in sport. 2023. #WeGotNow</td>\n",
       "      <td>26534</td>\n",
       "      <td>333</td>\n",
       "      <td>2023-05-28 12:58:40+00:00</td>\n",
       "      <td>5</td>\n",
       "    </tr>\n",
       "    <tr>\n",
       "      <th>1</th>\n",
       "      <td>newbalance</td>\n",
       "      <td>7074908</td>\n",
       "      <td>3.088760e+18</td>\n",
       "      <td>2</td>\n",
       "      <td>IU. Seoul. 2023. #WeGotNow</td>\n",
       "      <td>53742</td>\n",
       "      <td>1100</td>\n",
       "      <td>2023-04-25 13:14:48+00:00</td>\n",
       "      <td>1</td>\n",
       "    </tr>\n",
       "    <tr>\n",
       "      <th>2</th>\n",
       "      <td>newbalance</td>\n",
       "      <td>7074908</td>\n",
       "      <td>3.052450e+18</td>\n",
       "      <td>2</td>\n",
       "      <td>Same game, just played his way. Shohei Ohtani....</td>\n",
       "      <td>357969</td>\n",
       "      <td>1678</td>\n",
       "      <td>2023-03-06 11:03:46+00:00</td>\n",
       "      <td>2</td>\n",
       "    </tr>\n",
       "    <tr>\n",
       "      <th>3</th>\n",
       "      <td>newbalance</td>\n",
       "      <td>7074908</td>\n",
       "      <td>3.155460e+18</td>\n",
       "      <td>8</td>\n",
       "      <td>Introducing the debut collaborative project fr...</td>\n",
       "      <td>28796</td>\n",
       "      <td>173</td>\n",
       "      <td>2023-07-26 14:05:00+00:00</td>\n",
       "      <td>2</td>\n",
       "    </tr>\n",
       "    <tr>\n",
       "      <th>4</th>\n",
       "      <td>newbalance</td>\n",
       "      <td>7074908</td>\n",
       "      <td>3.148920e+18</td>\n",
       "      <td>8</td>\n",
       "      <td>Ready to take on the world.</td>\n",
       "      <td>5289</td>\n",
       "      <td>68</td>\n",
       "      <td>2023-07-17 13:32:36+00:00</td>\n",
       "      <td>6</td>\n",
       "    </tr>\n",
       "  </tbody>\n",
       "</table>\n",
       "</div>"
      ],
      "text/plain": [
       "     Username  Follower count:       Post ID  Media Type:  \\\n",
       "0  newbalance          7074908  3.112660e+18            2   \n",
       "1  newbalance          7074908  3.088760e+18            2   \n",
       "2  newbalance          7074908  3.052450e+18            2   \n",
       "3  newbalance          7074908  3.155460e+18            8   \n",
       "4  newbalance          7074908  3.148920e+18            8   \n",
       "\n",
       "                                             Caption   Likes  Comments  \\\n",
       "0                 Together in sport. 2023. #WeGotNow   26534       333   \n",
       "1                         IU. Seoul. 2023. #WeGotNow   53742      1100   \n",
       "2  Same game, just played his way. Shohei Ohtani....  357969      1678   \n",
       "3  Introducing the debut collaborative project fr...   28796       173   \n",
       "4                        Ready to take on the world.    5289        68   \n",
       "\n",
       "                   Timestamp  Tags  \n",
       "0  2023-05-28 12:58:40+00:00     5  \n",
       "1  2023-04-25 13:14:48+00:00     1  \n",
       "2  2023-03-06 11:03:46+00:00     2  \n",
       "3  2023-07-26 14:05:00+00:00     2  \n",
       "4  2023-07-17 13:32:36+00:00     6  "
      ]
     },
     "execution_count": 4,
     "metadata": {},
     "output_type": "execute_result"
    }
   ],
   "source": [
    "# import full dataset\n",
    "raw = pd.read_csv('../raw_data/all_data.csv')\n",
    "raw.head()"
   ]
  },
  {
   "cell_type": "code",
   "execution_count": 5,
   "id": "9078c030",
   "metadata": {},
   "outputs": [
    {
     "data": {
      "text/plain": [
       "Index(['Username', 'Follower count:', 'Post ID', 'Media Type:', 'Caption',\n",
       "       'Likes', 'Comments', 'Timestamp', 'Tags'],\n",
       "      dtype='object')"
      ]
     },
     "execution_count": 5,
     "metadata": {},
     "output_type": "execute_result"
    }
   ],
   "source": [
    "#all columns\n",
    "raw.columns"
   ]
  },
  {
   "cell_type": "code",
   "execution_count": 6,
   "id": "d29333cf",
   "metadata": {},
   "outputs": [
    {
     "data": {
      "text/html": [
       "<div>\n",
       "<style scoped>\n",
       "    .dataframe tbody tr th:only-of-type {\n",
       "        vertical-align: middle;\n",
       "    }\n",
       "\n",
       "    .dataframe tbody tr th {\n",
       "        vertical-align: top;\n",
       "    }\n",
       "\n",
       "    .dataframe thead th {\n",
       "        text-align: right;\n",
       "    }\n",
       "</style>\n",
       "<table border=\"1\" class=\"dataframe\">\n",
       "  <thead>\n",
       "    <tr style=\"text-align: right;\">\n",
       "      <th></th>\n",
       "      <th>count</th>\n",
       "      <th>%</th>\n",
       "    </tr>\n",
       "  </thead>\n",
       "  <tbody>\n",
       "    <tr>\n",
       "      <th>Username</th>\n",
       "      <td>0</td>\n",
       "      <td>0.0</td>\n",
       "    </tr>\n",
       "    <tr>\n",
       "      <th>Follower count:</th>\n",
       "      <td>0</td>\n",
       "      <td>0.0</td>\n",
       "    </tr>\n",
       "    <tr>\n",
       "      <th>Post ID</th>\n",
       "      <td>0</td>\n",
       "      <td>0.0</td>\n",
       "    </tr>\n",
       "    <tr>\n",
       "      <th>Media Type:</th>\n",
       "      <td>0</td>\n",
       "      <td>0.0</td>\n",
       "    </tr>\n",
       "    <tr>\n",
       "      <th>Caption</th>\n",
       "      <td>0</td>\n",
       "      <td>0.0</td>\n",
       "    </tr>\n",
       "    <tr>\n",
       "      <th>Likes</th>\n",
       "      <td>0</td>\n",
       "      <td>0.0</td>\n",
       "    </tr>\n",
       "    <tr>\n",
       "      <th>Comments</th>\n",
       "      <td>0</td>\n",
       "      <td>0.0</td>\n",
       "    </tr>\n",
       "    <tr>\n",
       "      <th>Timestamp</th>\n",
       "      <td>0</td>\n",
       "      <td>0.0</td>\n",
       "    </tr>\n",
       "    <tr>\n",
       "      <th>Tags</th>\n",
       "      <td>0</td>\n",
       "      <td>0.0</td>\n",
       "    </tr>\n",
       "  </tbody>\n",
       "</table>\n",
       "</div>"
      ],
      "text/plain": [
       "                 count    %\n",
       "Username             0  0.0\n",
       "Follower count:      0  0.0\n",
       "Post ID              0  0.0\n",
       "Media Type:          0  0.0\n",
       "Caption              0  0.0\n",
       "Likes                0  0.0\n",
       "Comments             0  0.0\n",
       "Timestamp            0  0.0\n",
       "Tags                 0  0.0"
      ]
     },
     "execution_count": 6,
     "metadata": {},
     "output_type": "execute_result"
    }
   ],
   "source": [
    "#missing values in features \n",
    "missing = pd.concat([raw.isnull().sum(), 100 * raw.isnull().mean()], axis=1)\n",
    "missing.columns=['count', '%']\n",
    "missing.sort_values(by='count')"
   ]
  },
  {
   "cell_type": "markdown",
   "id": "6088832b",
   "metadata": {},
   "source": [
    "Process Captions"
   ]
  },
  {
   "cell_type": "code",
   "execution_count": 7,
   "id": "155c6512",
   "metadata": {},
   "outputs": [],
   "source": [
    "#translate any words that may not be English\n",
    "\n",
    "def translate_non_english(text, translator):\n",
    "    translated_words = []\n",
    "    words = text.split()\n",
    "    \n",
    "    for word in words:\n",
    "        if translator.detect(word).lang != 'en':\n",
    "            translated_word = translator.translate(word, dest='en').text\n",
    "            translated_words.append(translated_word)\n",
    "        else:\n",
    "            translated_words.append(word)\n",
    "    \n",
    "    return ' '.join(translated_words)\n"
   ]
  },
  {
   "cell_type": "code",
   "execution_count": 8,
   "id": "81b6f550",
   "metadata": {},
   "outputs": [],
   "source": [
    "#cleaning text \n",
    "def clean_text(text):\n",
    "    \n",
    "    # Initialize a Translator instance\n",
    "    translator = Translator()\n",
    "    \n",
    "    # Translate non-English words\n",
    "    translated_text = translate_non_english(text, translator)\n",
    "    \n",
    "    # Convert to lowercase\n",
    "    translated_text = translated_text.lower()\n",
    "    \n",
    "    # Remove punctuation\n",
    "    translated_text = translated_text.translate(str.maketrans('', '', string.punctuation))\n",
    "    \n",
    "    # Tokenize text\n",
    "    tokens = word_tokenize(translated_text)\n",
    "    \n",
    "    # Remove stopwords\n",
    "    stop_words = set(stopwords.words('english'))\n",
    "    filtered_tokens = [word for word in tokens if word not in stop_words]\n",
    "    \n",
    "    return ' '.join(filtered_tokens)\n"
   ]
  },
  {
   "cell_type": "code",
   "execution_count": 9,
   "id": "c90f730c",
   "metadata": {},
   "outputs": [
    {
     "ename": "AttributeError",
     "evalue": "'NoneType' object has no attribute 'group'",
     "output_type": "error",
     "traceback": [
      "\u001b[0;31m---------------------------------------------------------------------------\u001b[0m",
      "\u001b[0;31mAttributeError\u001b[0m                            Traceback (most recent call last)",
      "Cell \u001b[0;32mIn[9], line 2\u001b[0m\n\u001b[1;32m      1\u001b[0m text \u001b[38;5;241m=\u001b[39m \u001b[38;5;124m\"\u001b[39m\u001b[38;5;124mThis is an example sentence with punctuation! Él corre en el parque.\u001b[39m\u001b[38;5;124m\"\u001b[39m\n\u001b[0;32m----> 2\u001b[0m cleaned_text \u001b[38;5;241m=\u001b[39m \u001b[43mclean_text\u001b[49m\u001b[43m(\u001b[49m\u001b[43mtext\u001b[49m\u001b[43m)\u001b[49m\n\u001b[1;32m      3\u001b[0m \u001b[38;5;28mprint\u001b[39m(cleaned_text)\n",
      "Cell \u001b[0;32mIn[8], line 8\u001b[0m, in \u001b[0;36mclean_text\u001b[0;34m(text)\u001b[0m\n\u001b[1;32m      5\u001b[0m translator \u001b[38;5;241m=\u001b[39m Translator()\n\u001b[1;32m      7\u001b[0m \u001b[38;5;66;03m# Translate non-English words\u001b[39;00m\n\u001b[0;32m----> 8\u001b[0m translated_text \u001b[38;5;241m=\u001b[39m \u001b[43mtranslate_non_english\u001b[49m\u001b[43m(\u001b[49m\u001b[43mtext\u001b[49m\u001b[43m,\u001b[49m\u001b[43m \u001b[49m\u001b[43mtranslator\u001b[49m\u001b[43m)\u001b[49m\n\u001b[1;32m     10\u001b[0m \u001b[38;5;66;03m# Convert to lowercase\u001b[39;00m\n\u001b[1;32m     11\u001b[0m translated_text \u001b[38;5;241m=\u001b[39m translated_text\u001b[38;5;241m.\u001b[39mlower()\n",
      "Cell \u001b[0;32mIn[7], line 8\u001b[0m, in \u001b[0;36mtranslate_non_english\u001b[0;34m(text, translator)\u001b[0m\n\u001b[1;32m      5\u001b[0m words \u001b[38;5;241m=\u001b[39m text\u001b[38;5;241m.\u001b[39msplit()\n\u001b[1;32m      7\u001b[0m \u001b[38;5;28;01mfor\u001b[39;00m word \u001b[38;5;129;01min\u001b[39;00m words:\n\u001b[0;32m----> 8\u001b[0m     \u001b[38;5;28;01mif\u001b[39;00m \u001b[43mtranslator\u001b[49m\u001b[38;5;241;43m.\u001b[39;49m\u001b[43mdetect\u001b[49m\u001b[43m(\u001b[49m\u001b[43mword\u001b[49m\u001b[43m)\u001b[49m\u001b[38;5;241m.\u001b[39mlang \u001b[38;5;241m!=\u001b[39m \u001b[38;5;124m'\u001b[39m\u001b[38;5;124men\u001b[39m\u001b[38;5;124m'\u001b[39m:\n\u001b[1;32m      9\u001b[0m         translated_word \u001b[38;5;241m=\u001b[39m translator\u001b[38;5;241m.\u001b[39mtranslate(word, dest\u001b[38;5;241m=\u001b[39m\u001b[38;5;124m'\u001b[39m\u001b[38;5;124men\u001b[39m\u001b[38;5;124m'\u001b[39m)\u001b[38;5;241m.\u001b[39mtext\n\u001b[1;32m     10\u001b[0m         translated_words\u001b[38;5;241m.\u001b[39mappend(translated_word)\n",
      "File \u001b[0;32m~/anaconda3/lib/python3.10/site-packages/googletrans/client.py:255\u001b[0m, in \u001b[0;36mTranslator.detect\u001b[0;34m(self, text, **kwargs)\u001b[0m\n\u001b[1;32m    252\u001b[0m         result\u001b[38;5;241m.\u001b[39mappend(lang)\n\u001b[1;32m    253\u001b[0m     \u001b[38;5;28;01mreturn\u001b[39;00m result\n\u001b[0;32m--> 255\u001b[0m data \u001b[38;5;241m=\u001b[39m \u001b[38;5;28;43mself\u001b[39;49m\u001b[38;5;241;43m.\u001b[39;49m\u001b[43m_translate\u001b[49m\u001b[43m(\u001b[49m\u001b[43mtext\u001b[49m\u001b[43m,\u001b[49m\u001b[43m \u001b[49m\u001b[38;5;124;43m'\u001b[39;49m\u001b[38;5;124;43men\u001b[39;49m\u001b[38;5;124;43m'\u001b[39;49m\u001b[43m,\u001b[49m\u001b[43m \u001b[49m\u001b[38;5;124;43m'\u001b[39;49m\u001b[38;5;124;43mauto\u001b[39;49m\u001b[38;5;124;43m'\u001b[39;49m\u001b[43m,\u001b[49m\u001b[43m \u001b[49m\u001b[43mkwargs\u001b[49m\u001b[43m)\u001b[49m\n\u001b[1;32m    257\u001b[0m \u001b[38;5;66;03m# actual source language that will be recognized by Google Translator when the\u001b[39;00m\n\u001b[1;32m    258\u001b[0m \u001b[38;5;66;03m# src passed is equal to auto.\u001b[39;00m\n\u001b[1;32m    259\u001b[0m src \u001b[38;5;241m=\u001b[39m \u001b[38;5;124m'\u001b[39m\u001b[38;5;124m'\u001b[39m\n",
      "File \u001b[0;32m~/anaconda3/lib/python3.10/site-packages/googletrans/client.py:78\u001b[0m, in \u001b[0;36mTranslator._translate\u001b[0;34m(self, text, dest, src, override)\u001b[0m\n\u001b[1;32m     77\u001b[0m \u001b[38;5;28;01mdef\u001b[39;00m \u001b[38;5;21m_translate\u001b[39m(\u001b[38;5;28mself\u001b[39m, text, dest, src, override):\n\u001b[0;32m---> 78\u001b[0m     token \u001b[38;5;241m=\u001b[39m \u001b[38;5;28;43mself\u001b[39;49m\u001b[38;5;241;43m.\u001b[39;49m\u001b[43mtoken_acquirer\u001b[49m\u001b[38;5;241;43m.\u001b[39;49m\u001b[43mdo\u001b[49m\u001b[43m(\u001b[49m\u001b[43mtext\u001b[49m\u001b[43m)\u001b[49m\n\u001b[1;32m     79\u001b[0m     params \u001b[38;5;241m=\u001b[39m utils\u001b[38;5;241m.\u001b[39mbuild_params(query\u001b[38;5;241m=\u001b[39mtext, src\u001b[38;5;241m=\u001b[39msrc, dest\u001b[38;5;241m=\u001b[39mdest,\n\u001b[1;32m     80\u001b[0m                                 token\u001b[38;5;241m=\u001b[39mtoken, override\u001b[38;5;241m=\u001b[39moverride)\n\u001b[1;32m     82\u001b[0m     url \u001b[38;5;241m=\u001b[39m urls\u001b[38;5;241m.\u001b[39mTRANSLATE\u001b[38;5;241m.\u001b[39mformat(host\u001b[38;5;241m=\u001b[39m\u001b[38;5;28mself\u001b[39m\u001b[38;5;241m.\u001b[39m_pick_service_url())\n",
      "File \u001b[0;32m~/anaconda3/lib/python3.10/site-packages/googletrans/gtoken.py:194\u001b[0m, in \u001b[0;36mTokenAcquirer.do\u001b[0;34m(self, text)\u001b[0m\n\u001b[1;32m    193\u001b[0m \u001b[38;5;28;01mdef\u001b[39;00m \u001b[38;5;21mdo\u001b[39m(\u001b[38;5;28mself\u001b[39m, text):\n\u001b[0;32m--> 194\u001b[0m     \u001b[38;5;28;43mself\u001b[39;49m\u001b[38;5;241;43m.\u001b[39;49m\u001b[43m_update\u001b[49m\u001b[43m(\u001b[49m\u001b[43m)\u001b[49m\n\u001b[1;32m    195\u001b[0m     tk \u001b[38;5;241m=\u001b[39m \u001b[38;5;28mself\u001b[39m\u001b[38;5;241m.\u001b[39macquire(text)\n\u001b[1;32m    196\u001b[0m     \u001b[38;5;28;01mreturn\u001b[39;00m tk\n",
      "File \u001b[0;32m~/anaconda3/lib/python3.10/site-packages/googletrans/gtoken.py:62\u001b[0m, in \u001b[0;36mTokenAcquirer._update\u001b[0;34m(self)\u001b[0m\n\u001b[1;32m     59\u001b[0m     \u001b[38;5;28;01mreturn\u001b[39;00m\n\u001b[1;32m     61\u001b[0m \u001b[38;5;66;03m# this will be the same as python code after stripping out a reserved word 'var'\u001b[39;00m\n\u001b[0;32m---> 62\u001b[0m code \u001b[38;5;241m=\u001b[39m \u001b[38;5;28;43mself\u001b[39;49m\u001b[38;5;241;43m.\u001b[39;49m\u001b[43mRE_TKK\u001b[49m\u001b[38;5;241;43m.\u001b[39;49m\u001b[43msearch\u001b[49m\u001b[43m(\u001b[49m\u001b[43mr\u001b[49m\u001b[38;5;241;43m.\u001b[39;49m\u001b[43mtext\u001b[49m\u001b[43m)\u001b[49m\u001b[38;5;241;43m.\u001b[39;49m\u001b[43mgroup\u001b[49m(\u001b[38;5;241m1\u001b[39m)\u001b[38;5;241m.\u001b[39mreplace(\u001b[38;5;124m'\u001b[39m\u001b[38;5;124mvar \u001b[39m\u001b[38;5;124m'\u001b[39m, \u001b[38;5;124m'\u001b[39m\u001b[38;5;124m'\u001b[39m)\n\u001b[1;32m     63\u001b[0m \u001b[38;5;66;03m# unescape special ascii characters such like a \\x3d(=)\u001b[39;00m\n\u001b[1;32m     64\u001b[0m code \u001b[38;5;241m=\u001b[39m code\u001b[38;5;241m.\u001b[39mencode()\u001b[38;5;241m.\u001b[39mdecode(\u001b[38;5;124m'\u001b[39m\u001b[38;5;124municode-escape\u001b[39m\u001b[38;5;124m'\u001b[39m)\n",
      "\u001b[0;31mAttributeError\u001b[0m: 'NoneType' object has no attribute 'group'"
     ]
    }
   ],
   "source": [
    "text = \"This is an example sentence with punctuation! Él corre en el parque.\"\n",
    "cleaned_text = clean_text(text)\n",
    "print(cleaned_text)  # Output: example sentence punctuation runs park"
   ]
  },
  {
   "cell_type": "code",
   "execution_count": null,
   "id": "2873f4fd",
   "metadata": {},
   "outputs": [],
   "source": [
    "#function for grabbing emojis and putting them in a \n",
    "def extract_emojis(text):\n",
    "    emojis = [c for c in text if c in emoji.UNICODE_EMOJI]\n",
    "    return emojis"
   ]
  },
  {
   "cell_type": "code",
   "execution_count": null,
   "id": "9c7dadb9",
   "metadata": {},
   "outputs": [],
   "source": [
    "# Example usage\n",
    "#text = \"I love Python! 😃🐍🚀\"\n",
    "#emojis = extract_emojis(text)\n",
    "#print(emojis)  # Output: ['😃', '🐍', '🚀']"
   ]
  },
  {
   "cell_type": "code",
   "execution_count": null,
   "id": "efe010a7",
   "metadata": {},
   "outputs": [],
   "source": [
    "#putting each item in the comments row through"
   ]
  },
  {
   "cell_type": "code",
   "execution_count": null,
   "id": "b176c31b",
   "metadata": {},
   "outputs": [],
   "source": [
    "# save the data to a new csv file\n",
    "\n",
    "from library.sb_utils import save_file\n",
    "\n",
    "datapath = '../data'\n",
    "save_file(features, 'features_data_cleaned.csv', datapath)"
   ]
  }
 ],
 "metadata": {
  "kernelspec": {
   "display_name": "Python 3 (ipykernel)",
   "language": "python",
   "name": "python3"
  },
  "language_info": {
   "codemirror_mode": {
    "name": "ipython",
    "version": 3
   },
   "file_extension": ".py",
   "mimetype": "text/x-python",
   "name": "python",
   "nbconvert_exporter": "python",
   "pygments_lexer": "ipython3",
   "version": "3.10.9"
  }
 },
 "nbformat": 4,
 "nbformat_minor": 5
}
