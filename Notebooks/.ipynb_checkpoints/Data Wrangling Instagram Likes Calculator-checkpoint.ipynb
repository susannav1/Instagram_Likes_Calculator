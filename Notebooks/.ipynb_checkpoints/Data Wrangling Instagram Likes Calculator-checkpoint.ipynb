{
 "cells": [
  {
   "cell_type": "code",
   "execution_count": 1,
   "id": "4d14913d",
   "metadata": {},
   "outputs": [],
   "source": [
    "import pandas as pd\n",
    "import string\n",
    "import nltk\n",
    "from nltk.corpus import stopwords\n",
    "from nltk.tokenize import word_tokenize"
   ]
  },
  {
   "cell_type": "code",
   "execution_count": 2,
   "id": "84524223",
   "metadata": {},
   "outputs": [
    {
     "data": {
      "text/html": [
       "<div>\n",
       "<style scoped>\n",
       "    .dataframe tbody tr th:only-of-type {\n",
       "        vertical-align: middle;\n",
       "    }\n",
       "\n",
       "    .dataframe tbody tr th {\n",
       "        vertical-align: top;\n",
       "    }\n",
       "\n",
       "    .dataframe thead th {\n",
       "        text-align: right;\n",
       "    }\n",
       "</style>\n",
       "<table border=\"1\" class=\"dataframe\">\n",
       "  <thead>\n",
       "    <tr style=\"text-align: right;\">\n",
       "      <th></th>\n",
       "      <th>Username</th>\n",
       "      <th>Follower count:</th>\n",
       "      <th>Post ID</th>\n",
       "      <th>Media Type:</th>\n",
       "      <th>Caption</th>\n",
       "      <th>Likes</th>\n",
       "      <th>Comments</th>\n",
       "      <th>Timestamp</th>\n",
       "      <th>Tags</th>\n",
       "    </tr>\n",
       "  </thead>\n",
       "  <tbody>\n",
       "    <tr>\n",
       "      <th>0</th>\n",
       "      <td>newbalance</td>\n",
       "      <td>7074908</td>\n",
       "      <td>3.112660e+18</td>\n",
       "      <td>2</td>\n",
       "      <td>Together in sport. 2023. #WeGotNow</td>\n",
       "      <td>26534</td>\n",
       "      <td>333</td>\n",
       "      <td>2023-05-28 12:58:40+00:00</td>\n",
       "      <td>5</td>\n",
       "    </tr>\n",
       "    <tr>\n",
       "      <th>1</th>\n",
       "      <td>newbalance</td>\n",
       "      <td>7074908</td>\n",
       "      <td>3.088760e+18</td>\n",
       "      <td>2</td>\n",
       "      <td>IU. Seoul. 2023. #WeGotNow</td>\n",
       "      <td>53742</td>\n",
       "      <td>1100</td>\n",
       "      <td>2023-04-25 13:14:48+00:00</td>\n",
       "      <td>1</td>\n",
       "    </tr>\n",
       "    <tr>\n",
       "      <th>2</th>\n",
       "      <td>newbalance</td>\n",
       "      <td>7074908</td>\n",
       "      <td>3.052450e+18</td>\n",
       "      <td>2</td>\n",
       "      <td>Same game, just played his way. Shohei Ohtani....</td>\n",
       "      <td>357969</td>\n",
       "      <td>1678</td>\n",
       "      <td>2023-03-06 11:03:46+00:00</td>\n",
       "      <td>2</td>\n",
       "    </tr>\n",
       "    <tr>\n",
       "      <th>3</th>\n",
       "      <td>newbalance</td>\n",
       "      <td>7074908</td>\n",
       "      <td>3.155460e+18</td>\n",
       "      <td>8</td>\n",
       "      <td>Introducing the debut collaborative project fr...</td>\n",
       "      <td>28796</td>\n",
       "      <td>173</td>\n",
       "      <td>2023-07-26 14:05:00+00:00</td>\n",
       "      <td>2</td>\n",
       "    </tr>\n",
       "    <tr>\n",
       "      <th>4</th>\n",
       "      <td>newbalance</td>\n",
       "      <td>7074908</td>\n",
       "      <td>3.148920e+18</td>\n",
       "      <td>8</td>\n",
       "      <td>Ready to take on the world.</td>\n",
       "      <td>5289</td>\n",
       "      <td>68</td>\n",
       "      <td>2023-07-17 13:32:36+00:00</td>\n",
       "      <td>6</td>\n",
       "    </tr>\n",
       "  </tbody>\n",
       "</table>\n",
       "</div>"
      ],
      "text/plain": [
       "     Username  Follower count:       Post ID  Media Type:  \\\n",
       "0  newbalance          7074908  3.112660e+18            2   \n",
       "1  newbalance          7074908  3.088760e+18            2   \n",
       "2  newbalance          7074908  3.052450e+18            2   \n",
       "3  newbalance          7074908  3.155460e+18            8   \n",
       "4  newbalance          7074908  3.148920e+18            8   \n",
       "\n",
       "                                             Caption   Likes  Comments  \\\n",
       "0                 Together in sport. 2023. #WeGotNow   26534       333   \n",
       "1                         IU. Seoul. 2023. #WeGotNow   53742      1100   \n",
       "2  Same game, just played his way. Shohei Ohtani....  357969      1678   \n",
       "3  Introducing the debut collaborative project fr...   28796       173   \n",
       "4                        Ready to take on the world.    5289        68   \n",
       "\n",
       "                   Timestamp  Tags  \n",
       "0  2023-05-28 12:58:40+00:00     5  \n",
       "1  2023-04-25 13:14:48+00:00     1  \n",
       "2  2023-03-06 11:03:46+00:00     2  \n",
       "3  2023-07-26 14:05:00+00:00     2  \n",
       "4  2023-07-17 13:32:36+00:00     6  "
      ]
     },
     "execution_count": 2,
     "metadata": {},
     "output_type": "execute_result"
    }
   ],
   "source": [
    "# import full dataset\n",
    "df = pd.read_csv('../raw_data/all_data.csv')\n",
    "df.head()"
   ]
  },
  {
   "cell_type": "code",
   "execution_count": 3,
   "id": "0f690628",
   "metadata": {},
   "outputs": [
    {
     "data": {
      "text/plain": [
       "Index(['Username', 'Follower count:', 'Post ID', 'Media Type:', 'Caption',\n",
       "       'Likes', 'Comments', 'Timestamp', 'Tags'],\n",
       "      dtype='object')"
      ]
     },
     "execution_count": 3,
     "metadata": {},
     "output_type": "execute_result"
    }
   ],
   "source": [
    "#all columns\n",
    "df.columns"
   ]
  },
  {
   "cell_type": "code",
   "execution_count": 4,
   "id": "2d197212",
   "metadata": {},
   "outputs": [
    {
     "data": {
      "text/html": [
       "<div>\n",
       "<style scoped>\n",
       "    .dataframe tbody tr th:only-of-type {\n",
       "        vertical-align: middle;\n",
       "    }\n",
       "\n",
       "    .dataframe tbody tr th {\n",
       "        vertical-align: top;\n",
       "    }\n",
       "\n",
       "    .dataframe thead th {\n",
       "        text-align: right;\n",
       "    }\n",
       "</style>\n",
       "<table border=\"1\" class=\"dataframe\">\n",
       "  <thead>\n",
       "    <tr style=\"text-align: right;\">\n",
       "      <th></th>\n",
       "      <th>count</th>\n",
       "      <th>%</th>\n",
       "    </tr>\n",
       "  </thead>\n",
       "  <tbody>\n",
       "    <tr>\n",
       "      <th>Username</th>\n",
       "      <td>0</td>\n",
       "      <td>0.0</td>\n",
       "    </tr>\n",
       "    <tr>\n",
       "      <th>Follower count:</th>\n",
       "      <td>0</td>\n",
       "      <td>0.0</td>\n",
       "    </tr>\n",
       "    <tr>\n",
       "      <th>Post ID</th>\n",
       "      <td>0</td>\n",
       "      <td>0.0</td>\n",
       "    </tr>\n",
       "    <tr>\n",
       "      <th>Media Type:</th>\n",
       "      <td>0</td>\n",
       "      <td>0.0</td>\n",
       "    </tr>\n",
       "    <tr>\n",
       "      <th>Caption</th>\n",
       "      <td>0</td>\n",
       "      <td>0.0</td>\n",
       "    </tr>\n",
       "    <tr>\n",
       "      <th>Likes</th>\n",
       "      <td>0</td>\n",
       "      <td>0.0</td>\n",
       "    </tr>\n",
       "    <tr>\n",
       "      <th>Comments</th>\n",
       "      <td>0</td>\n",
       "      <td>0.0</td>\n",
       "    </tr>\n",
       "    <tr>\n",
       "      <th>Timestamp</th>\n",
       "      <td>0</td>\n",
       "      <td>0.0</td>\n",
       "    </tr>\n",
       "    <tr>\n",
       "      <th>Tags</th>\n",
       "      <td>0</td>\n",
       "      <td>0.0</td>\n",
       "    </tr>\n",
       "  </tbody>\n",
       "</table>\n",
       "</div>"
      ],
      "text/plain": [
       "                 count    %\n",
       "Username             0  0.0\n",
       "Follower count:      0  0.0\n",
       "Post ID              0  0.0\n",
       "Media Type:          0  0.0\n",
       "Caption              0  0.0\n",
       "Likes                0  0.0\n",
       "Comments             0  0.0\n",
       "Timestamp            0  0.0\n",
       "Tags                 0  0.0"
      ]
     },
     "execution_count": 4,
     "metadata": {},
     "output_type": "execute_result"
    }
   ],
   "source": [
    "#missing values in features \n",
    "missing = pd.concat([df.isnull().sum(), 100 * df.isnull().mean()], axis=1)\n",
    "missing.columns=['count', '%']\n",
    "missing.sort_values(by='count')"
   ]
  },
  {
   "cell_type": "markdown",
   "id": "7a671519",
   "metadata": {},
   "source": [
    "Process Captions"
   ]
  },
  {
   "cell_type": "code",
   "execution_count": 5,
   "id": "01a16305",
   "metadata": {},
   "outputs": [],
   "source": [
    "#cleaning text \n",
    "def clean_text(text):\n",
    "    \n",
    "    \n",
    "    # Convert to lowercase\n",
    "    text = text.lower()\n",
    "    \n",
    "    # Remove punctuation\n",
    "    text = text.translate(str.maketrans('', '', string.punctuation))\n",
    "    \n",
    "    # Tokenize text\n",
    "    tokens = word_tokenize(text)\n",
    "    \n",
    "    # Remove stopwords\n",
    "    stop_words = set(stopwords.words('english'))\n",
    "    filtered_tokens = [word for word in tokens if word not in stop_words]\n",
    "    \n",
    "    return ' '.join(filtered_tokens)\n"
   ]
  },
  {
   "cell_type": "code",
   "execution_count": 6,
   "id": "1233c38d",
   "metadata": {},
   "outputs": [],
   "source": [
    "clean_captions = []\n",
    "for caption in df['Caption']:\n",
    "    hi = clean_text(caption)\n",
    "    clean_captions.append(hi)\n"
   ]
  },
  {
   "cell_type": "code",
   "execution_count": 7,
   "id": "36d9781c",
   "metadata": {},
   "outputs": [],
   "source": [
    "# add clean_captions to the dataframe \n",
    "df['clean_captions'] = clean_captions"
   ]
  },
  {
   "cell_type": "markdown",
   "id": "8f07e524",
   "metadata": {},
   "source": [
    "Considerations:\n",
    "- should this be processed for synoymns\n",
    "- should numbers be removed?\n",
    "- should an array of the emojis used in each caption be added and encoded\n",
    "- there are a small handful of text in a different language... how should they be handled? \n",
    "    - ignore all together\n",
    "    - translate manually \n",
    "    - try and translate with goog trans?"
   ]
  },
  {
   "cell_type": "markdown",
   "id": "931f7322",
   "metadata": {},
   "source": [
    "Process Timestamps"
   ]
  },
  {
   "cell_type": "code",
   "execution_count": 8,
   "id": "de4144b9",
   "metadata": {},
   "outputs": [
    {
     "data": {
      "text/plain": [
       "dtype('O')"
      ]
     },
     "execution_count": 8,
     "metadata": {},
     "output_type": "execute_result"
    }
   ],
   "source": [
    "#check data type of the values in the Timestamp series\n",
    "df['Timestamp'].dtype"
   ]
  },
  {
   "cell_type": "code",
   "execution_count": 9,
   "id": "efdca245",
   "metadata": {},
   "outputs": [
    {
     "data": {
      "text/plain": [
       "datetime64[ns, UTC]"
      ]
     },
     "execution_count": 9,
     "metadata": {},
     "output_type": "execute_result"
    }
   ],
   "source": [
    "#convert to datetime\n",
    "df['Timestamp'] = pd.to_datetime(df['Timestamp'])\n",
    "df['Timestamp'].dtype"
   ]
  },
  {
   "cell_type": "code",
   "execution_count": 10,
   "id": "245d4e5a",
   "metadata": {},
   "outputs": [],
   "source": [
    "#extract dayofweek, hour, and month from the post \n",
    "df['hour'] = df['Timestamp'].dt.hour\n",
    "df['dayofweek'] = df['Timestamp'].dt.dayofweek\n",
    "df['month'] = df['Timestamp'].dt.month"
   ]
  },
  {
   "cell_type": "code",
   "execution_count": 11,
   "id": "9570cdce",
   "metadata": {},
   "outputs": [
    {
     "data": {
      "text/html": [
       "<div>\n",
       "<style scoped>\n",
       "    .dataframe tbody tr th:only-of-type {\n",
       "        vertical-align: middle;\n",
       "    }\n",
       "\n",
       "    .dataframe tbody tr th {\n",
       "        vertical-align: top;\n",
       "    }\n",
       "\n",
       "    .dataframe thead th {\n",
       "        text-align: right;\n",
       "    }\n",
       "</style>\n",
       "<table border=\"1\" class=\"dataframe\">\n",
       "  <thead>\n",
       "    <tr style=\"text-align: right;\">\n",
       "      <th></th>\n",
       "      <th>Username</th>\n",
       "      <th>Follower count:</th>\n",
       "      <th>Post ID</th>\n",
       "      <th>Media Type:</th>\n",
       "      <th>Caption</th>\n",
       "      <th>Likes</th>\n",
       "      <th>Comments</th>\n",
       "      <th>Timestamp</th>\n",
       "      <th>Tags</th>\n",
       "      <th>clean_captions</th>\n",
       "      <th>hour</th>\n",
       "      <th>dayofweek</th>\n",
       "      <th>month</th>\n",
       "    </tr>\n",
       "  </thead>\n",
       "  <tbody>\n",
       "    <tr>\n",
       "      <th>0</th>\n",
       "      <td>newbalance</td>\n",
       "      <td>7074908</td>\n",
       "      <td>3.112660e+18</td>\n",
       "      <td>2</td>\n",
       "      <td>Together in sport. 2023. #WeGotNow</td>\n",
       "      <td>26534</td>\n",
       "      <td>333</td>\n",
       "      <td>2023-05-28 12:58:40+00:00</td>\n",
       "      <td>5</td>\n",
       "      <td>together sport 2023 wegotnow</td>\n",
       "      <td>12</td>\n",
       "      <td>6</td>\n",
       "      <td>5</td>\n",
       "    </tr>\n",
       "    <tr>\n",
       "      <th>1</th>\n",
       "      <td>newbalance</td>\n",
       "      <td>7074908</td>\n",
       "      <td>3.088760e+18</td>\n",
       "      <td>2</td>\n",
       "      <td>IU. Seoul. 2023. #WeGotNow</td>\n",
       "      <td>53742</td>\n",
       "      <td>1100</td>\n",
       "      <td>2023-04-25 13:14:48+00:00</td>\n",
       "      <td>1</td>\n",
       "      <td>iu seoul 2023 wegotnow</td>\n",
       "      <td>13</td>\n",
       "      <td>1</td>\n",
       "      <td>4</td>\n",
       "    </tr>\n",
       "    <tr>\n",
       "      <th>2</th>\n",
       "      <td>newbalance</td>\n",
       "      <td>7074908</td>\n",
       "      <td>3.052450e+18</td>\n",
       "      <td>2</td>\n",
       "      <td>Same game, just played his way. Shohei Ohtani....</td>\n",
       "      <td>357969</td>\n",
       "      <td>1678</td>\n",
       "      <td>2023-03-06 11:03:46+00:00</td>\n",
       "      <td>2</td>\n",
       "      <td>game played way shohei ohtani 2023 wegotnow 同じ...</td>\n",
       "      <td>11</td>\n",
       "      <td>0</td>\n",
       "      <td>3</td>\n",
       "    </tr>\n",
       "    <tr>\n",
       "      <th>3</th>\n",
       "      <td>newbalance</td>\n",
       "      <td>7074908</td>\n",
       "      <td>3.155460e+18</td>\n",
       "      <td>8</td>\n",
       "      <td>Introducing the debut collaborative project fr...</td>\n",
       "      <td>28796</td>\n",
       "      <td>173</td>\n",
       "      <td>2023-07-26 14:05:00+00:00</td>\n",
       "      <td>2</td>\n",
       "      <td>introducing debut collaborative project actres...</td>\n",
       "      <td>14</td>\n",
       "      <td>2</td>\n",
       "      <td>7</td>\n",
       "    </tr>\n",
       "    <tr>\n",
       "      <th>4</th>\n",
       "      <td>newbalance</td>\n",
       "      <td>7074908</td>\n",
       "      <td>3.148920e+18</td>\n",
       "      <td>8</td>\n",
       "      <td>Ready to take on the world.</td>\n",
       "      <td>5289</td>\n",
       "      <td>68</td>\n",
       "      <td>2023-07-17 13:32:36+00:00</td>\n",
       "      <td>6</td>\n",
       "      <td>ready take world</td>\n",
       "      <td>13</td>\n",
       "      <td>0</td>\n",
       "      <td>7</td>\n",
       "    </tr>\n",
       "  </tbody>\n",
       "</table>\n",
       "</div>"
      ],
      "text/plain": [
       "     Username  Follower count:       Post ID  Media Type:  \\\n",
       "0  newbalance          7074908  3.112660e+18            2   \n",
       "1  newbalance          7074908  3.088760e+18            2   \n",
       "2  newbalance          7074908  3.052450e+18            2   \n",
       "3  newbalance          7074908  3.155460e+18            8   \n",
       "4  newbalance          7074908  3.148920e+18            8   \n",
       "\n",
       "                                             Caption   Likes  Comments  \\\n",
       "0                 Together in sport. 2023. #WeGotNow   26534       333   \n",
       "1                         IU. Seoul. 2023. #WeGotNow   53742      1100   \n",
       "2  Same game, just played his way. Shohei Ohtani....  357969      1678   \n",
       "3  Introducing the debut collaborative project fr...   28796       173   \n",
       "4                        Ready to take on the world.    5289        68   \n",
       "\n",
       "                  Timestamp  Tags  \\\n",
       "0 2023-05-28 12:58:40+00:00     5   \n",
       "1 2023-04-25 13:14:48+00:00     1   \n",
       "2 2023-03-06 11:03:46+00:00     2   \n",
       "3 2023-07-26 14:05:00+00:00     2   \n",
       "4 2023-07-17 13:32:36+00:00     6   \n",
       "\n",
       "                                      clean_captions  hour  dayofweek  month  \n",
       "0                       together sport 2023 wegotnow    12          6      5  \n",
       "1                             iu seoul 2023 wegotnow    13          1      4  \n",
       "2  game played way shohei ohtani 2023 wegotnow 同じ...    11          0      3  \n",
       "3  introducing debut collaborative project actres...    14          2      7  \n",
       "4                                   ready take world    13          0      7  "
      ]
     },
     "execution_count": 11,
     "metadata": {},
     "output_type": "execute_result"
    }
   ],
   "source": [
    "df.head()"
   ]
  },
  {
   "cell_type": "code",
   "execution_count": null,
   "id": "65486f2a",
   "metadata": {},
   "outputs": [],
   "source": []
  },
  {
   "cell_type": "code",
   "execution_count": 12,
   "id": "c7de2fb5",
   "metadata": {},
   "outputs": [
    {
     "name": "stdout",
     "output_type": "stream",
     "text": [
      "Writing file.  \"../data/cleaned_insta.csv\"\n"
     ]
    }
   ],
   "source": [
    "# save the data to a new csv file\n",
    "\n",
    "from library.sb_utils import save_file\n",
    "\n",
    "datapath = '../data'\n",
    "save_file(df, 'cleaned_insta.csv', datapath)"
   ]
  },
  {
   "cell_type": "code",
   "execution_count": null,
   "id": "1b275ede",
   "metadata": {},
   "outputs": [],
   "source": []
  }
 ],
 "metadata": {
  "kernelspec": {
   "display_name": "Python 3 (ipykernel)",
   "language": "python",
   "name": "python3"
  },
  "language_info": {
   "codemirror_mode": {
    "name": "ipython",
    "version": 3
   },
   "file_extension": ".py",
   "mimetype": "text/x-python",
   "name": "python",
   "nbconvert_exporter": "python",
   "pygments_lexer": "ipython3",
   "version": "3.10.9"
  }
 },
 "nbformat": 4,
 "nbformat_minor": 5
}
